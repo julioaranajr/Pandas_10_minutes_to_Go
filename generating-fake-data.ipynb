{
 "cells": [
  {
   "cell_type": "markdown",
   "id": "23f338ff",
   "metadata": {},
   "source": [
    "# Generating Fake CSV Data with Python using Faker\n",
    "\n",
    "We wil be emulating some of the free datasets from Kaggle, in particular the Netflix original films IMDB score to generate something similar.\n",
    "\n",
    "## Prerequisites:\n",
    "\n",
    "- Familiarity with `Pipenv`. See here [Pipenv](https://docs.pipenv.org/basics/)\n",
    "- Familiarity with `JupyterLab`. See here [JupyterLab](https://jupyterlab.readthedocs.io/en/stable/)\n",
    "\n",
    "## Getting Started\n",
    "\n",
    "1. Install `Pipenv` if you don't have it installed already. You can install it using `pip`:\n",
    "\n",
    "```bash\n",
    "pip install pipenv\n",
    "```\n",
    "\n",
    "2. Create a new directory and navigate into it:\n",
    "\n",
    "```bash\n",
    "mkdir fake-csv-data\n",
    "cd fake-csv-data\n",
    "```\n",
    "\n",
    "3. Create a new `Pipenv` environment:\n",
    "\n",
    "```bash\n",
    "pipenv --python 3.10\n",
    "```\n",
    "\n",
    "4. Install the required packages:\n",
    "\n",
    "```bash\n",
    "pipenv install pandas faker\n",
    "```\n",
    "\n",
    "5. Start JupyterLab:\n",
    "\n",
    "```bash\n",
    "pipenv run jupyter lab\n",
    "```\n",
    "\n",
    "6. The server will now be up and running. Navigate to the URL provided in the terminal to access JupyterLab.\n",
    "\n",
    "Example:\n",
    "\n",
    "```bash\n",
    "http://localhost:8888/lab/workspaces/auto-I\n",
    "```\n",
    "\n",
    "7. Creating a new notebook:\n",
    "\n",
    "Once on http://localhost:8888/lab, select to create a new Python 3 notebook from the launcher.\n",
    "\n",
    "> Note: Ensure that this notebook is saved in generating-fake-csv-data-with-python/docs/generating-fake-data.ipynb.\n",
    "\n",
    "We will create four cells to handle four parts of this mini project:\n",
    "\n",
    "1. Importing Faker and generating data.\n",
    "2. Importing the CSV module and exporting the data to a CSV file.\n",
    "\n",
    "**Before generating our data, we need to look at what we are trying to emulate.**\n",
    "\n",
    "### Emulating The Netflix Original Movies IMDB Scores Dataset\n",
    "Looking at the preview for our dataset, we can see that it contains the following columns and example rows:\n",
    "\n",
    "| Title | Genre | Premiere | Runtime | IMDB Score | Language |\n",
    "| ------| ----- | -------- | ------- | ---------- | -------- |\n",
    "| Enter the Anime | Documentary | August 5, 2019 | 58 | 2.5 | English/Japanese |\n",
    "| Dark Forces | Thriller | August 21, 2020 | 81 | 2.6 | Spanish |\n",
    "\n",
    "We only have two rows for example, but from here we can make a few assumptions about how we want to emulate it.\n",
    "\n",
    "1. In our languages, we will stick to a single language (unlike the example English/Japanese).\n",
    "2. IMDB scores are between 1 and 5. We won’t be too harsh on any movies and go from 0.\n",
    "3. Runtimes should emulate a real movie — we can set it to be between 50 and 150 minutes.\n",
    "4. Genres may be something we need to write our own Faker provider for.\n",
    "5. We are going to be okay with non-sense data, so we can just use a string generator for the names.\n",
    "\n",
    "With this said, let’s look at how we can fake this."
   ]
  },
  {
   "cell_type": "markdown",
   "id": "052d8a63",
   "metadata": {},
   "source": [
    "## Emulating a value for each column\n",
    "\n",
    "We will create seven cells — one to import Faker and one for each column.\n",
    "\n",
    "1. For the first cell, we will import Faker."
   ]
  },
  {
   "cell_type": "code",
   "execution_count": 1,
   "id": "1cb3ce99-81c5-4907-bb8a-294d3aef51f8",
   "metadata": {},
   "outputs": [],
   "source": [
    "from faker import Faker\n",
    "\n",
    "fake = Faker()"
   ]
  },
  {
   "cell_type": "markdown",
   "id": "3fbbb5c5",
   "metadata": {},
   "source": [
    "2. We will fake a movie name with words:"
   ]
  },
  {
   "cell_type": "code",
   "execution_count": 2,
   "id": "729ba5d0-a553-4513-903a-334d5cdb51ea",
   "metadata": {},
   "outputs": [
    {
     "name": "stdout",
     "output_type": "stream",
     "text": [
      "Real Hair Month\n"
     ]
    }
   ],
   "source": [
    "def capitalize(str):\n",
    "    return str.capitalize()\n",
    "words = fake.words()\n",
    "capitalized_words = list(map(capitalize, words))\n",
    "movie_name = ' '.join(capitalized_words)\n",
    "print(movie_name)  # Real Hair Month"
   ]
  },
  {
   "cell_type": "markdown",
   "id": "7a7b514b",
   "metadata": {},
   "source": [
    "3. We will generate a date this decade and use the same format as the example:"
   ]
  },
  {
   "cell_type": "code",
   "execution_count": 3,
   "id": "cf7890d9-04df-4e5b-bf4f-7a76a128d3f5",
   "metadata": {},
   "outputs": [
    {
     "name": "stdout",
     "output_type": "stream",
     "text": [
      "April 27, 2024\n"
     ]
    }
   ],
   "source": [
    "from datetime import datetime\n",
    "\n",
    "date = datetime.strftime(fake.date_time_this_decade(), \"%B %d, %Y\")\n",
    "print(date)  # April 27, 2024"
   ]
  },
  {
   "cell_type": "markdown",
   "id": "5cd5fb56",
   "metadata": {},
   "source": [
    "4. We will create our own fake data generator for the genre:"
   ]
  },
  {
   "cell_type": "code",
   "execution_count": 4,
   "id": "c004edd3-de65-4cf2-931c-77cd7f75f361",
   "metadata": {},
   "outputs": [
    {
     "name": "stdout",
     "output_type": "stream",
     "text": [
      "Horror\n"
     ]
    }
   ],
   "source": [
    "# creating a provider for genre\n",
    "from faker.providers import BaseProvider\n",
    "import random\n",
    "\n",
    "# create new provider class\n",
    "class GenereProvider(BaseProvider):\n",
    "    def movie_genre(self):\n",
    "        return random.choice(['Documentary', 'Thriller', 'Mystery', 'Horror', 'Action', 'Comedy', 'Drama', 'Romance'])\n",
    "\n",
    "# then add new provider to faker instance\n",
    "fake.add_provider(GenereProvider)\n",
    "\n",
    "# now you can use:\n",
    "movie_genre = fake.movie_genre()\n",
    "print(movie_genre) # Horror\n"
   ]
  },
  {
   "cell_type": "markdown",
   "id": "36013882",
   "metadata": {},
   "source": [
    "5. We will do the same for a language:"
   ]
  },
  {
   "cell_type": "code",
   "execution_count": 5,
   "id": "79b20e77-415a-47f6-80f5-843b90c82209",
   "metadata": {},
   "outputs": [
    {
     "name": "stdout",
     "output_type": "stream",
     "text": [
      "Hindi\n"
     ]
    }
   ],
   "source": [
    "# creating a provider for genre\n",
    "from faker.providers import BaseProvider\n",
    "import random\n",
    "\n",
    "# create new provider class\n",
    "class LanguageProvider(BaseProvider):\n",
    "    def language(self):\n",
    "        return random.choice(['English', 'Chinese', 'Italian', 'Spanish', 'Hindi', 'Japanese'])\n",
    "\n",
    "# then add new provider to faker instance\n",
    "fake.add_provider(LanguageProvider)\n",
    "\n",
    "# now you can use:\n",
    "language = fake.language()\n",
    "print(language) # Hindi\n"
   ]
  },
  {
   "cell_type": "markdown",
   "id": "f9f0d252",
   "metadata": {},
   "source": [
    "6. We need to generate a runtime (in minutes) between 50 and 150:"
   ]
  },
  {
   "cell_type": "code",
   "execution_count": 6,
   "id": "f3f8644c-3f74-4f28-8cf0-01d2a7dacf50",
   "metadata": {},
   "outputs": [
    {
     "name": "stdout",
     "output_type": "stream",
     "text": [
      "133\n"
     ]
    }
   ],
   "source": [
    "# Getting random movie length\n",
    "movie_len = random.randrange(50, 150)\n",
    "print(movie_len) # 133"
   ]
  },
  {
   "cell_type": "markdown",
   "id": "ec22554e",
   "metadata": {},
   "source": [
    "7. Lastly, we need a rating with one decimal point between 1.0 and 5.0:"
   ]
  },
  {
   "cell_type": "code",
   "execution_count": 7,
   "id": "712af1af-a17f-4eaa-baf1-de70ed19ecbb",
   "metadata": {},
   "outputs": [
    {
     "name": "stdout",
     "output_type": "stream",
     "text": [
      "4.0\n"
     ]
    }
   ],
   "source": [
    "# Movie rating\n",
    "random_rating = round(random.uniform(1.0, 5.0), 1)\n",
    "print(random_rating) # 4.0"
   ]
  },
  {
   "cell_type": "markdown",
   "id": "7aaafe0e",
   "metadata": {},
   "source": [
    "## Generating the CSV\n",
    "Now that we have all our information together, it is time to generate a CSV with 1000 entries.\n",
    "\n",
    "We can place everything we know into a last cell to generate some data:"
   ]
  },
  {
   "cell_type": "code",
   "execution_count": 8,
   "id": "53221b4c-a044-4572-b9bd-68c21eb0e557",
   "metadata": {},
   "outputs": [],
   "source": [
    "from faker import Faker\n",
    "from faker.providers import BaseProvider\n",
    "import random\n",
    "import csv\n",
    "\n",
    "class GenereProvider(BaseProvider):\n",
    "    def movie_genre(self):\n",
    "        return random.choice(['Documentary', 'Thriller', 'Mystery', 'Horror', 'Action', 'Comedy', 'Drama', 'Romance'])\n",
    "\n",
    "class LanguageProvider(BaseProvider):\n",
    "    def language(self):\n",
    "        return random.choice(['English', 'Chinese', 'Italian', 'Spanish', 'Hindi', 'Japanese'])\n",
    "\n",
    "fake = Faker()\n",
    "\n",
    "fake.add_provider(GenereProvider)\n",
    "fake.add_provider(LanguageProvider)\n",
    "\n",
    "# Some of this is a bit verbose now, but doing so for the sake of completion\n",
    "\n",
    "def get_movie_name():\n",
    "    words = fake.words()\n",
    "    capitalized_words = list(map(capitalize, words))\n",
    "    return ' '.join(capitalized_words)\n",
    "\n",
    "def get_movie_date():\n",
    "    return datetime.strftime(fake.date_time_this_decade(), \"%B %d, %Y\")\n",
    "\n",
    "def get_movie_len():\n",
    "    return random.randrange(50, 150)\n",
    "\n",
    "def get_movie_rating():\n",
    "    return round(random.uniform(1.0, 5.0), 1)\n",
    "\n",
    "def generate_movie():\n",
    "    return [get_movie_name(), fake.movie_genre(), get_movie_date(), get_movie_len(), get_movie_rating(), fake.language()]\n",
    "\n",
    "with open('movie_data.csv', 'w') as csvfile:\n",
    "    writer = csv.writer(csvfile)\n",
    "    writer.writerow(['Title', 'Genre', 'Premiere', 'Runtime', 'IMDB Score', 'Language'])\n",
    "    for n in range(1, 1000):\n",
    "        writer.writerow(generate_movie())"
   ]
  },
  {
   "cell_type": "markdown",
   "id": "ee02d129",
   "metadata": {},
   "source": [
    "## Summary\n",
    "\n",
    "Today’s Tutorial demonstrated how to use the `Faker package` to generate fake data and the `CSV library` to export that data to file.\n",
    "\n",
    "In future, we may use this data to make our data sets to work with and some some data science around.\n",
    "\n",
    "`Kaggle` and `Open Data` are great resources for data and data visualization for any use you may also have when not generating your own data.\n",
    "\n",
    "\n",
    "Thanks for reading! Happy coding! 🚀\n",
    "\n",
    "Follow me on [GitHub - julioaranajr ](https://github.com/julioaranajr) for more updates and tutorials like this.\n"
   ]
  }
 ],
 "metadata": {
  "kernelspec": {
   "display_name": "Python 3 (ipykernel)",
   "language": "python",
   "name": "python3"
  },
  "language_info": {
   "codemirror_mode": {
    "name": "ipython",
    "version": 3
   },
   "file_extension": ".py",
   "mimetype": "text/x-python",
   "name": "python",
   "nbconvert_exporter": "python",
   "pygments_lexer": "ipython3",
   "version": "3.10.12"
  }
 },
 "nbformat": 4,
 "nbformat_minor": 5
}
